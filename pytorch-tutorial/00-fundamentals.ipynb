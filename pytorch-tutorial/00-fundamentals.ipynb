{
 "cells": [
  {
   "cell_type": "code",
   "execution_count": 1,
   "id": "b0fc93fe",
   "metadata": {},
   "outputs": [
    {
     "data": {
      "text/plain": [
       "'2.0.0a0'"
      ]
     },
     "execution_count": 1,
     "metadata": {},
     "output_type": "execute_result"
    }
   ],
   "source": [
    "import torch\n",
    "torch.__version__"
   ]
  },
  {
   "cell_type": "code",
   "execution_count": 10,
   "id": "134e7026",
   "metadata": {},
   "outputs": [
    {
     "name": "stdout",
     "output_type": "stream",
     "text": [
      "tensor(7)\n",
      "0\n",
      "torch.Size([])\n",
      "7\n"
     ]
    }
   ],
   "source": [
    "scalar = torch.tensor(7)\n",
    "print(scalar)\n",
    "print(scalar.ndim)\n",
    "print(scalar.shape)\n",
    "num = scalar.item()\n",
    "print(num)"
   ]
  },
  {
   "cell_type": "code",
   "execution_count": 9,
   "id": "529b4ed4",
   "metadata": {},
   "outputs": [
    {
     "name": "stdout",
     "output_type": "stream",
     "text": [
      "tensor([7, 7])\n",
      "1\n",
      "torch.Size([2])\n"
     ]
    }
   ],
   "source": [
    "vector = torch.tensor([7, 7])\n",
    "print(vector)\n",
    "print(vector.ndim)\n",
    "print(vector.shape)"
   ]
  },
  {
   "cell_type": "code",
   "execution_count": 16,
   "id": "cbe7c0d0",
   "metadata": {},
   "outputs": [
    {
     "data": {
      "text/plain": [
       "torch.Size([2, 2])"
      ]
     },
     "execution_count": 16,
     "metadata": {},
     "output_type": "execute_result"
    }
   ],
   "source": [
    "MATRIX = torch.tensor([[7, 8], [9, 10]])\n",
    "MATRIX.shape"
   ]
  },
  {
   "cell_type": "markdown",
   "id": "e83777fd",
   "metadata": {},
   "source": [
    "* scalars and vectors are lowercase\n",
    "* matricies are uppercase"
   ]
  },
  {
   "cell_type": "code",
   "execution_count": 17,
   "id": "e9937eb8",
   "metadata": {},
   "outputs": [
    {
     "data": {
      "text/plain": [
       "(tensor([[0.8537, 0.8871, 0.2133],\n",
       "         [0.4375, 0.2666, 0.9511],\n",
       "         [0.5398, 0.5677, 0.6266]]),\n",
       " torch.float32)"
      ]
     },
     "execution_count": 17,
     "metadata": {},
     "output_type": "execute_result"
    }
   ],
   "source": [
    "rnd_tensor = torch.rand(size=(3, 3))\n",
    "rnd_tensor, rnd_tensor.dtype"
   ]
  },
  {
   "cell_type": "code",
   "execution_count": 18,
   "id": "52a3a70c",
   "metadata": {},
   "outputs": [
    {
     "data": {
      "text/plain": [
       "(torch.Size([28, 28, 255]), 3)"
      ]
     },
     "execution_count": 18,
     "metadata": {},
     "output_type": "execute_result"
    }
   ],
   "source": [
    "random_img = torch.rand(size=(28, 28, 255))\n",
    "random_img.shape, random_img.ndim"
   ]
  },
  {
   "cell_type": "code",
   "execution_count": 19,
   "id": "9b2d938a",
   "metadata": {},
   "outputs": [],
   "source": [
    "zeros = torch.zeros(size=(4,8))\n",
    "ones = torch.ones(size=(2, 4))"
   ]
  },
  {
   "cell_type": "code",
   "execution_count": 21,
   "id": "afe0383b",
   "metadata": {},
   "outputs": [
    {
     "data": {
      "text/plain": [
       "tensor([0, 1, 2, 3, 4, 5, 6, 7, 8, 9])"
      ]
     },
     "execution_count": 21,
     "metadata": {},
     "output_type": "execute_result"
    }
   ],
   "source": [
    "choose_nums_range = torch.arange(0, 10, 1) # start, stop, steps\n",
    "choose_nums_range"
   ]
  },
  {
   "cell_type": "code",
   "execution_count": 22,
   "id": "e2d8455c",
   "metadata": {},
   "outputs": [
    {
     "data": {
      "text/plain": [
       "tensor([0, 0, 0, 0, 0, 0, 0, 0, 0, 0])"
      ]
     },
     "execution_count": 22,
     "metadata": {},
     "output_type": "execute_result"
    }
   ],
   "source": [
    "ten_zeros = torch.zeros_like(input=choose_nums_range)\n",
    "ten_zeros"
   ]
  },
  {
   "cell_type": "code",
   "execution_count": 31,
   "id": "d92657a3",
   "metadata": {},
   "outputs": [
    {
     "data": {
      "text/plain": [
       "(torch.Size([3]), torch.float32, device(type='cpu'))"
      ]
     },
     "execution_count": 31,
     "metadata": {},
     "output_type": "execute_result"
    }
   ],
   "source": [
    "float_32_tensor = torch.tensor([3.0, 6.0, 9.0],\n",
    "                              dtype=None,\n",
    "                              device=None,\n",
    "                              requires_grad=False)\n",
    "float_32_tensor.shape, float_32_tensor.dtype, float_32_tensor.device"
   ]
  },
  {
   "cell_type": "markdown",
   "id": "fac5883a",
   "metadata": {},
   "source": [
    "* most important: shape, dtype, device\n",
    "* ops: add, sub, element mul, div, matmul"
   ]
  },
  {
   "cell_type": "code",
   "execution_count": 38,
   "id": "cfb66890",
   "metadata": {},
   "outputs": [],
   "source": [
    "# normal ops:\n",
    "# *, -, +\n",
    "# torch.multiply, torch.subtract, torch.add\n",
    "\n",
    "# @ -> not recommended to use\n",
    "# torch.matmul or torch.mm (same thing)\n",
    "# matmul is also called dot product\n",
    "\n",
    "# row x column"
   ]
  },
  {
   "cell_type": "code",
   "execution_count": 39,
   "id": "92c9561f",
   "metadata": {},
   "outputs": [],
   "source": [
    "# transpose:\n",
    "# torch.transpose(tensor, dim0, dim1) the dimensions to transpose (for > 2 dims)\n",
    "# tensor.T where tensor is the 2d tensor to transpose"
   ]
  },
  {
   "cell_type": "code",
   "execution_count": 46,
   "id": "58bfe3dd",
   "metadata": {},
   "outputs": [
    {
     "name": "stdout",
     "output_type": "stream",
     "text": [
      "In shape: torch.Size([1, 784])\n",
      "\n",
      "Out: \n",
      "tensor([[-1.0221e+00,  3.3333e-01, -4.4196e-01,  3.6954e-01, -6.6991e-01,\n",
      "         -1.0869e-01,  1.0467e+00, -1.4423e-01,  8.1657e-01, -5.4482e-01,\n",
      "          3.3786e-01,  4.7608e-01, -2.3781e-01, -9.1405e-01, -4.6560e-02,\n",
      "         -6.1687e-01, -7.6711e-02,  2.8819e-01, -3.7048e-01, -1.5974e-01,\n",
      "          5.0816e-01,  1.4323e-01, -5.6566e-01, -6.8167e-01, -5.7136e-01,\n",
      "         -3.8327e-01,  7.1025e-01,  2.9030e-01,  8.0512e-01, -4.8810e-01,\n",
      "          8.9675e-02,  1.0378e+00,  7.0183e-01, -2.7763e-01,  1.0900e+00,\n",
      "         -5.1458e-01, -1.1403e+00,  8.1332e-02, -8.5107e-02,  4.0625e-01,\n",
      "         -1.5067e-02, -1.9607e-01,  1.9738e-01, -2.1913e-01,  3.8502e-01,\n",
      "          2.1711e-01, -3.6357e-02,  6.3149e-01,  4.4924e-01,  3.0260e-01,\n",
      "          1.4686e-01,  9.0243e-01,  9.8660e-01, -4.6107e-01,  4.5416e-01,\n",
      "         -9.3773e-01,  2.6414e-01,  9.5601e-01, -1.2356e+00,  9.6001e-01,\n",
      "         -1.2131e+00,  1.9815e-01,  3.0609e-01,  6.0750e-01, -2.9057e-01,\n",
      "          3.7269e-01, -4.0004e-01, -5.8144e-03,  9.1048e-01, -1.9450e-01,\n",
      "         -1.1061e-01, -4.3835e-01,  1.0618e-01,  1.3100e-01,  5.6064e-04,\n",
      "          5.5194e-01, -4.4191e-01,  5.0592e-01, -7.2128e-02, -4.9664e-01,\n",
      "          4.2898e-01,  8.0603e-01,  3.3514e-02,  9.9187e-02,  4.7989e-01,\n",
      "         -5.3510e-02, -3.9181e-02,  1.1041e+00,  5.3977e-01, -7.3468e-01,\n",
      "         -1.8064e-01, -8.9892e-01,  8.4407e-02,  4.8205e-01, -4.6426e-01,\n",
      "         -3.8730e-01,  7.8386e-01,  3.9347e-01, -2.5721e-01,  1.0334e+00,\n",
      "          2.7360e-01, -2.6907e-01,  2.9143e-01, -1.4991e+00,  3.4805e-01,\n",
      "          7.1157e-01,  9.5982e-01, -1.6481e-01, -8.2491e-02,  6.4251e-01,\n",
      "          3.8007e-01,  1.6652e-01, -1.9140e-01, -2.7290e-01, -3.9577e-01]],\n",
      "       grad_fn=<AddmmBackward0>)\n",
      "\n",
      "Out shape: torch.Size([1, 115])\n"
     ]
    }
   ],
   "source": [
    "# single linear feed forward layer\n",
    "torch.manual_seed(42)\n",
    "linear = torch.nn.Linear(in_features=784,\n",
    "                        out_features=115)\n",
    "x = torch.ones(size=(1, 784))\n",
    "output = linear(x)\n",
    "\n",
    "print(f\"In shape: {x.shape}\\n\")\n",
    "print(f\"Out: \\n{output}\\n\\nOut shape: {output.shape}\")"
   ]
  },
  {
   "cell_type": "markdown",
   "id": "311f7cdf",
   "metadata": {},
   "source": [
    "* aggregating matricies means taking them from more values to less values"
   ]
  },
  {
   "cell_type": "code",
   "execution_count": 52,
   "id": "ebd5f836",
   "metadata": {},
   "outputs": [
    {
     "name": "stdout",
     "output_type": "stream",
     "text": [
      "tensor([ 0, 10, 20, 30, 40, 50, 60, 70, 80, 90])\n",
      "Minimum: 0\n",
      "Maximum: 90\n",
      "Mean: 45.0\n",
      "Sum: 450\n"
     ]
    }
   ],
   "source": [
    "X = torch.arange(0, 100, 10)\n",
    "print(X)\n",
    "print(f\"Minimum: {X.min()}\")\n",
    "print(f\"Maximum: {X.max()}\")\n",
    "print(f\"Mean: {X.type(torch.float32).mean()}\") # mean only works with floats\n",
    "print(f\"Sum: {X.sum()}\")"
   ]
  },
  {
   "cell_type": "code",
   "execution_count": 56,
   "id": "00e73d64",
   "metadata": {},
   "outputs": [],
   "source": [
    "tensor = torch.arange(10., 100., 10.)\n",
    "tensor_float16 = tensor.type(torch.float16)\n",
    "# the lower the precision number (16, 32, 64) the faster the computation\n",
    "# and the smaller the overall model, but accuracy is sacrificed with this"
   ]
  },
  {
   "cell_type": "code",
   "execution_count": 57,
   "id": "3b73d23b",
   "metadata": {},
   "outputs": [
    {
     "data": {
      "text/plain": [
       "(tensor([1., 2., 3., 4., 5., 6., 7.]), torch.Size([7]))"
      ]
     },
     "execution_count": 57,
     "metadata": {},
     "output_type": "execute_result"
    }
   ],
   "source": [
    "# reshaping\n",
    "x = torch.arange(1., 8.)\n",
    "x, x.shape"
   ]
  },
  {
   "cell_type": "code",
   "execution_count": 67,
   "id": "629713f6",
   "metadata": {},
   "outputs": [
    {
     "name": "stdout",
     "output_type": "stream",
     "text": [
      "tensor([[1., 2., 3., 4., 5., 6., 7.]]) torch.Size([1, 7])\n",
      "tensor([[1., 2., 3., 4., 5., 6., 7.]]) torch.Size([1, 7])\n"
     ]
    },
    {
     "data": {
      "text/plain": [
       "tensor([[1., 2., 3., 4., 5., 6., 7.],\n",
       "        [1., 2., 3., 4., 5., 6., 7.],\n",
       "        [1., 2., 3., 4., 5., 6., 7.],\n",
       "        [1., 2., 3., 4., 5., 6., 7.]])"
      ]
     },
     "execution_count": 67,
     "metadata": {},
     "output_type": "execute_result"
    }
   ],
   "source": [
    "x_reshaped = x.reshape(1, 7) # reshape\n",
    "print(x_reshaped, x_reshaped.shape)\n",
    "\n",
    "z = x.view(1, 7) # same tensor, diff dim\n",
    "print(z, z.shape)\n",
    "\n",
    "x_stacked = torch.stack([x, x, x, x], dim=0) # stack tensor ontop of itself\n",
    "x_stacked\n",
    "\n",
    "# squeeze removes all single dimensions from a tensor\n",
    "# unsqueeze adds a dimension value of 1 to a specific index\n",
    "# permute rearanges the order of axes values"
   ]
  },
  {
   "cell_type": "code",
   "execution_count": 76,
   "id": "3d237227",
   "metadata": {},
   "outputs": [
    {
     "name": "stdout",
     "output_type": "stream",
     "text": [
      "0th dim and 0 index of first dim: tensor([[1, 2, 3]])\n",
      "All vals of 0th and 1st dim, but only index 1 of second dim: tensor([[2, 5, 8]])\n"
     ]
    }
   ],
   "source": [
    "# indexing \n",
    "# goes outer dim -> inner dim\n",
    "x = torch.arange(1, 10).reshape(1, 3, 3)\n",
    "print(f\"0th dim and 0 index of first dim: {x[:, 0]}\")\n",
    "print(f\"All vals of 0th and 1st dim, but only index 1 of second dim: {x[:, :, 1]}\")\n",
    "# x[0, 0, :] is same as x[0][0]"
   ]
  },
  {
   "cell_type": "code",
   "execution_count": 77,
   "id": "b7bac253",
   "metadata": {},
   "outputs": [],
   "source": [
    "# pytorch and numpy\n",
    "# torch.from_numpy(ndarray) np array to torch tensor\n",
    "# torch .Tensor.numpy() torch tensor to np array"
   ]
  },
  {
   "cell_type": "markdown",
   "id": "09a5ac06",
   "metadata": {},
   "source": [
    "* also using google colab because gpu\n",
    "* float16 -> half, float32 -> float, float64 -> double"
   ]
  },
  {
   "cell_type": "code",
   "execution_count": null,
   "id": "1d806a1d",
   "metadata": {},
   "outputs": [],
   "source": []
  }
 ],
 "metadata": {
  "kernelspec": {
   "display_name": "Python 3 (ipykernel)",
   "language": "python",
   "name": "python3"
  },
  "language_info": {
   "codemirror_mode": {
    "name": "ipython",
    "version": 3
   },
   "file_extension": ".py",
   "mimetype": "text/x-python",
   "name": "python",
   "nbconvert_exporter": "python",
   "pygments_lexer": "ipython3",
   "version": "3.11.6"
  }
 },
 "nbformat": 4,
 "nbformat_minor": 5
}
