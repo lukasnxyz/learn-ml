{
 "cells": [
  {
   "cell_type": "markdown",
   "id": "fbc2aacf",
   "metadata": {},
   "source": [
    "### Keyboard Shorcuts in Jupyter Notebooks"
   ]
  },
  {
   "cell_type": "markdown",
   "id": "a8eb47d3",
   "metadata": {},
   "source": [
    "#### Basics\n",
    "* Shift + Enter: run current cell, select below\n",
    "* Ctrl + s: save and checkpoint"
   ]
  },
  {
   "cell_type": "markdown",
   "id": "ed850257",
   "metadata": {},
   "source": [
    "#### Command Mode\n",
    "* Enter: edit mode\n",
    "* h: show all shortcuts\n",
    "* a: insert cell above\n",
    "* b: insert cell below\n",
    "* d + d: delete selected cells\n",
    "* z: undo cell deletion\n",
    "* s: save and checkpoint\n",
    "* y: cell type to code\n",
    "* m: cell type to markdown\n",
    "* p: open command palette (run any command by name)\n",
    "* Shift + Space: scroll notebook up"
   ]
  },
  {
   "cell_type": "markdown",
   "id": "6f5d19c8",
   "metadata": {},
   "source": [
    "#### Edit Mode\n",
    "* Escape: enter command mode\n",
    "* tab: code complete or indent\n",
    "* Ctrl + ]: indent\n",
    "* Ctrl + z: undo\n",
    "* Ctrl + Home: go to cell start\n",
    "* Ctrl + End: go to cell end"
   ]
  }
 ],
 "metadata": {
  "kernelspec": {
   "display_name": "Python 3 (ipykernel)",
   "language": "python",
   "name": "python3"
  },
  "language_info": {
   "codemirror_mode": {
    "name": "ipython",
    "version": 3
   },
   "file_extension": ".py",
   "mimetype": "text/x-python",
   "name": "python",
   "nbconvert_exporter": "python",
   "pygments_lexer": "ipython3",
   "version": "3.11.6"
  }
 },
 "nbformat": 4,
 "nbformat_minor": 5
}
