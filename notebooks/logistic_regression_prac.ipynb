{
 "cells": [
  {
   "cell_type": "code",
   "execution_count": 1,
   "id": "1cb86112-6877-4eb7-9ea1-bf9fd3e78f5f",
   "metadata": {},
   "outputs": [],
   "source": [
    "import numpy as np\n",
    "import csv\n",
    "from sklearn.model_selection import train_test_split\n",
    "\n",
    "def sigmoid(x):\n",
    "    return 1/(1 + np.exp(-x))\n",
    "\n",
    "class LogisticRegression():\n",
    "    def __init__(self, rate=1e-5, epochs=20000):\n",
    "        self.rate = rate\n",
    "        self.epochs = epochs\n",
    "        self.weights = None\n",
    "        self.bias = 0\n",
    "            \n",
    "    def train(self, feats, ys):\n",
    "        n_samples, n_feats = feats.shape\n",
    "        self.weights = np.zeros(n_feats)\n",
    "        self.bias = 0\n",
    "\n",
    "        for _ in range(self.epochs):\n",
    "            self.descent(feats, ys, n_samples)\n",
    "\n",
    "    def descent(self, feats, ys, n_samples):\n",
    "        # Check the outcome first\n",
    "        linear_preds = np.dot(feats, self.weights) + self.bias\n",
    "        # and then make on a scale from 0.0 to 1.0\n",
    "        predictions = sigmoid(linear_preds)\n",
    "\n",
    "        d_weights = (1/n_samples) * np.dot(feats.T, (predictions - ys))\n",
    "        d_bias = (1/n_samples) * np.sum(predictions - ys)\n",
    "\n",
    "        self.weights = self.weights - d_weights * self.rate\n",
    "        self.bias = self.bias - d_bias * self.rate\n",
    "\n",
    "    def predict(self, feats):\n",
    "        linear_preds = np.dot(feats, self.weights) + self.bias\n",
    "        predictions = sigmoid(linear_preds)\n",
    "        class_preds = []\n",
    "\n",
    "        # This may be an error\n",
    "        for i in range(len(predictions)): \n",
    "            if predictions[i] <= 0.5:\n",
    "                class_preds.append(0)\n",
    "            else:\n",
    "                class_preds.append(1)\n",
    "                \n",
    "        return class_preds\n",
    "\n",
    "def accuracy(tests, preds):\n",
    "    return np.sum(preds == tests) / len(tests)"
   ]
  },
  {
   "cell_type": "code",
   "execution_count": 2,
   "id": "387b58f1-7f76-4ad6-9223-67fc56fe82b2",
   "metadata": {},
   "outputs": [
    {
     "name": "stdout",
     "output_type": "stream",
     "text": [
      "Accuracy: 59.146%\n"
     ]
    },
    {
     "name": "stderr",
     "output_type": "stream",
     "text": [
      "/tmp/ipykernel_48759/3274942106.py:6: RuntimeWarning: overflow encountered in exp\n",
      "  return 1/(1 + np.exp(-x))\n"
     ]
    }
   ],
   "source": [
    "def main():\n",
    "    with open(\"/home/ln/src/ml/data/water_potability.csv\") as file:\n",
    "        next(file)\n",
    "        reader = csv.reader(file)\n",
    "        data_csv = list(reader)\n",
    "        \n",
    "        for row in data_csv:\n",
    "            for i, x in enumerate(row):\n",
    "                if len(x)< 1:\n",
    "                    x = row[i] = \"0.0\"\n",
    "\n",
    "    data = np.array(data_csv)\n",
    "    data = data.astype(float)\n",
    "    \n",
    "    feats = data[:, :-1]\n",
    "    ys = data[:, -1]\n",
    "\n",
    "    features_train, features_test, ys_train, ys_test = train_test_split(feats, ys, test_size=0.2, random_state=1234)                                                                                                                                                   \n",
    "\n",
    "    clf = LogisticRegression(rate=0.001, epochs=1000)\n",
    "    clf.train(features_train, ys_train)\n",
    "\n",
    "    ys_pred = clf.predict(features_test)\n",
    "    a = accuracy(ys_test, ys_pred) * 100\n",
    "    print(\"Accuracy: \" + \"{:.3f}%\".format(a))\n",
    "\n",
    "if __name__ == \"__main__\":\n",
    "    main()"
   ]
  },
  {
   "cell_type": "code",
   "execution_count": null,
   "id": "42d3de00-3ae6-470f-a593-c17d8cef770a",
   "metadata": {},
   "outputs": [],
   "source": []
  }
 ],
 "metadata": {
  "kernelspec": {
   "display_name": "Python 3 (ipykernel)",
   "language": "python",
   "name": "python3"
  },
  "language_info": {
   "codemirror_mode": {
    "name": "ipython",
    "version": 3
   },
   "file_extension": ".py",
   "mimetype": "text/x-python",
   "name": "python",
   "nbconvert_exporter": "python",
   "pygments_lexer": "ipython3",
   "version": "3.11.6"
  }
 },
 "nbformat": 4,
 "nbformat_minor": 5
}
