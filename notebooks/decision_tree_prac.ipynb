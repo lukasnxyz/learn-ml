{
 "cells": [
  {
   "cell_type": "code",
   "execution_count": null,
   "id": "b3c384da-a8a8-46f4-a070-a449e7a9bf8a",
   "metadata": {},
   "outputs": [],
   "source": [
    "from __future__ import print_function"
   ]
  },
  {
   "cell_type": "markdown",
   "id": "ad5c26d6-6e75-410e-b974-b60aae3d56c2",
   "metadata": {},
   "source": [
    "# first two columns are features\n",
    "# last column is label (class to predict)\n",
    "\n",
    "data = [\n",
    "    [\"Green\", 3, \"Apple\"],\n",
    "    [\"Yellow\", 3, \"Apple\"],\n",
    "    [\"Red\", 1, \"Grape\"],\n",
    "    [\"Red\", 1, \"Grapde\"],\n",
    "    [\"Yellow\", 3, \"Lemon\"],\n",
    "]"
   ]
  },
  {
   "cell_type": "code",
   "execution_count": null,
   "id": "0ecf9bc4-58ea-4322-bfd5-5e009ee4a66c",
   "metadata": {},
   "outputs": [],
   "source": [
    "# CART decision tree algorithm (classifcation and regressions trees\n",
    "# each node of tree asks a true/false question and then splits the data into two more nodes\n",
    "# impurity: 0 < x < 1. Lower values == less uncertainty\n",
    "# - chance of being incorrect if you randomly assign a label to an example in the same set\n",
    "# information gain: how much a question reduces the uncertainty at a node\n",
    "# - find the question that reduces the uncertainty the most\n",
    "# gini impurity: how much uncertaintity at a node"
   ]
  }
 ],
 "metadata": {
  "kernelspec": {
   "display_name": "Python 3 (ipykernel)",
   "language": "python",
   "name": "python3"
  },
  "language_info": {
   "codemirror_mode": {
    "name": "ipython",
    "version": 3
   },
   "file_extension": ".py",
   "mimetype": "text/x-python",
   "name": "python",
   "nbconvert_exporter": "python",
   "pygments_lexer": "ipython3",
   "version": "3.11.6"
  }
 },
 "nbformat": 4,
 "nbformat_minor": 5
}
