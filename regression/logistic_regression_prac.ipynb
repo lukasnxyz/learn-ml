{
 "cells": [
  {
   "cell_type": "code",
   "execution_count": 49,
   "id": "1cb86112-6877-4eb7-9ea1-bf9fd3e78f5f",
   "metadata": {},
   "outputs": [],
   "source": [
    "import numpy as np\n",
    "import csv\n",
    "from sklearn.model_selection import train_test_split\n",
    "\n",
    "def sigmoid(x):\n",
    "    return 1/(1 + np.exp(-x))\n",
    "\n",
    "class LogisticRegression():\n",
    "    def __init__(self, rate=1e-5, epochs=20000):\n",
    "        self.rate = rate\n",
    "        self.epochs = epochs\n",
    "        self.weights = None\n",
    "        self.bias = 0\n",
    "            \n",
    "    def train(self, feats, ys):\n",
    "        n_samples, n_feats = feats.shape\n",
    "        self.weights = np.zeros(n_feats)\n",
    "        self.bias = 0\n",
    "\n",
    "        for _ in range(self.epochs):\n",
    "            self.descent(feats, ys, n_samples)\n",
    "\n",
    "    def descent(self, feats, ys, n_samples):\n",
    "        # Check the outcome first\n",
    "        linear_preds = np.dot(feats, self.weights) + self.bias\n",
    "        # and then make on a scale from 0.0 to 1.0\n",
    "        predictions = sigmoid(linear_preds)\n",
    "\n",
    "        d_weights = (1/n_samples) * np.dot(feats.T, (predictions - ys))\n",
    "        d_bias = (1/n_samples) * np.sum(predictions - ys)\n",
    "\n",
    "        self.weights = self.weights - d_weights * self.rate\n",
    "        self.bias = self.bias - d_bias * self.rate\n",
    "\n",
    "    def predict(self, feats):\n",
    "        linear_preds = np.dot(feats, self.weights) + self.bias\n",
    "        predictions = sigmoid(linear_preds)\n",
    "        class_preds = []\n",
    "\n",
    "        # This may be an error\n",
    "        for i in range(len(predictions)): \n",
    "            if predictions[i] <= 0.5:\n",
    "                class_preds.append(0)\n",
    "            else:\n",
    "                class_preds.append(1)\n",
    "                \n",
    "        return class_preds\n",
    "\n",
    "def accuracy(tests, preds):\n",
    "    return np.sum(preds == tests) / len(tests)"
   ]
  },
  {
   "cell_type": "code",
   "execution_count": 69,
   "id": "387b58f1-7f76-4ad6-9223-67fc56fe82b2",
   "metadata": {},
   "outputs": [
    {
     "name": "stdout",
     "output_type": "stream",
     "text": [
      "[['' '204.8904554713363' '20791.318980747026' ... '86.9909704615088'\n",
      "  '2.9631353806316407' '0']\n",
      " ['3.71608007538699' '129.42292051494425' '18630.057857970347' ...\n",
      "  '56.32907628451764' '4.500656274942408' '0']\n",
      " ['8.099124189298397' '224.23625939355776' '19909.541732292393' ...\n",
      "  '66.42009251176368' '3.0559337496641685' '0']\n",
      " ...\n",
      " ['9.41951031641321' '175.76264629629543' '33155.578218312294' ...\n",
      "  '69.84540029205144' '3.298875498646556' '1']\n",
      " ['5.1267629233515315' '230.60375750846123' '11983.869376336363' ...\n",
      "  '77.48821310275477' '4.708658467526655' '1']\n",
      " ['7.874671357791283' '195.10229858610904' '17404.17706105066' ...\n",
      "  '78.69844632549504' '2.309149056634923' '1']]\n"
     ]
    },
    {
     "ename": "ValueError",
     "evalue": "could not convert string to float: ''",
     "output_type": "error",
     "traceback": [
      "\u001b[0;31m---------------------------------------------------------------------------\u001b[0m",
      "\u001b[0;31mValueError\u001b[0m                                Traceback (most recent call last)",
      "Cell \u001b[0;32mIn[69], line 24\u001b[0m\n\u001b[1;32m     21\u001b[0m     \u001b[38;5;28mprint\u001b[39m(accuracy(ys_test, ys_pred))\n\u001b[1;32m     23\u001b[0m \u001b[38;5;28;01mif\u001b[39;00m \u001b[38;5;18m__name__\u001b[39m \u001b[38;5;241m==\u001b[39m \u001b[38;5;124m\"\u001b[39m\u001b[38;5;124m__main__\u001b[39m\u001b[38;5;124m\"\u001b[39m:\n\u001b[0;32m---> 24\u001b[0m     \u001b[43mmain\u001b[49m\u001b[43m(\u001b[49m\u001b[43m)\u001b[49m\n",
      "Cell \u001b[0;32mIn[69], line 9\u001b[0m, in \u001b[0;36mmain\u001b[0;34m()\u001b[0m\n\u001b[1;32m      7\u001b[0m data \u001b[38;5;241m=\u001b[39m np\u001b[38;5;241m.\u001b[39mdelete(data, (\u001b[38;5;241m0\u001b[39m), axis\u001b[38;5;241m=\u001b[39m\u001b[38;5;241m0\u001b[39m)\n\u001b[1;32m      8\u001b[0m \u001b[38;5;28mprint\u001b[39m(data)\n\u001b[0;32m----> 9\u001b[0m data \u001b[38;5;241m=\u001b[39m \u001b[43mdata\u001b[49m\u001b[38;5;241;43m.\u001b[39;49m\u001b[43mastype\u001b[49m\u001b[43m(\u001b[49m\u001b[38;5;28;43mfloat\u001b[39;49m\u001b[43m)\u001b[49m\n\u001b[1;32m     11\u001b[0m \u001b[38;5;28;01mreturn\u001b[39;00m\n\u001b[1;32m     12\u001b[0m feats \u001b[38;5;241m=\u001b[39m data[\u001b[38;5;241m0\u001b[39m, :\u001b[38;5;241m-\u001b[39m\u001b[38;5;241m1\u001b[39m]\n",
      "\u001b[0;31mValueError\u001b[0m: could not convert string to float: ''"
     ]
    }
   ],
   "source": [
    "def main():\n",
    "    with open(\"/home/ln/src/ml/data/water_potability.csv\") as file:\n",
    "        reader = csv.reader(file)\n",
    "        data_csv = list(reader)\n",
    "\n",
    "    data = np.array(data_csv)\n",
    "    data = np.delete(data, (0), axis=0)\n",
    "    print(data)\n",
    "    data = data.astype(float)\n",
    "\n",
    "    return\n",
    "    feats = data[0, :-1]\n",
    "    ys = data[:, -1]\n",
    "\n",
    "    features_train, features_test, ys_train, ys_test = train_test_split(feats, ys, test_size=0.2, random_state=1234)                                                                                                                                                   \n",
    "\n",
    "    clf = LogisticRegression()\n",
    "    clf.train(features_train, ys_train)\n",
    "\n",
    "    ys_pred = clf.predict(features_test)\n",
    "    print(accuracy(ys_test, ys_pred))\n",
    "\n",
    "if __name__ == \"__main__\":\n",
    "    main()"
   ]
  },
  {
   "cell_type": "code",
   "execution_count": null,
   "id": "569817cf-0a88-48e1-9d34-5cae135b966f",
   "metadata": {},
   "outputs": [],
   "source": []
  }
 ],
 "metadata": {
  "kernelspec": {
   "display_name": "Python 3 (ipykernel)",
   "language": "python",
   "name": "python3"
  },
  "language_info": {
   "codemirror_mode": {
    "name": "ipython",
    "version": 3
   },
   "file_extension": ".py",
   "mimetype": "text/x-python",
   "name": "python",
   "nbconvert_exporter": "python",
   "pygments_lexer": "ipython3",
   "version": "3.11.6"
  }
 },
 "nbformat": 4,
 "nbformat_minor": 5
}
