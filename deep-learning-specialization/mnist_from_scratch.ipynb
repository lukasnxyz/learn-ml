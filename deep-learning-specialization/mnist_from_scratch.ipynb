{
 "cells": [
  {
   "cell_type": "code",
   "execution_count": 13,
   "id": "5cbf8a02-15fe-44f8-bfa6-0b26ab05a179",
   "metadata": {},
   "outputs": [],
   "source": [
    "import numpy as np\n",
    "from numpy import load\n",
    "import matplotlib.pyplot as plt\n",
    "\n",
    "import requests, gzip, os, hashlib\n",
    "\n",
    "np.random.seed(42)"
   ]
  },
  {
   "cell_type": "code",
   "execution_count": 84,
   "id": "2647fa5c-99df-49b9-a43a-f3182184e890",
   "metadata": {},
   "outputs": [
    {
     "data": {
      "text/plain": [
       "((784, 100), (1, 100), (784, 100), (1, 100))"
      ]
     },
     "execution_count": 84,
     "metadata": {},
     "output_type": "execute_result"
    }
   ],
   "source": [
    "mnist_data = dict(load('data/mnist.npz'))\n",
    "Xtr = mnist_data['x_train'].reshape(60000, -1).T[:, :100]\n",
    "Ytr = mnist_data['y_train'].reshape(-1, 1)[:100].T\n",
    "Xtest = mnist_data['x_test'].reshape(10000, -1).T[:, :100]\n",
    "Ytest = mnist_data['y_test'].reshape(-1, 1)[:100].T\n",
    "Xtr.shape, Ytr.shape, Xtest.shape, Ytest.shape"
   ]
  },
  {
   "cell_type": "code",
   "execution_count": 85,
   "id": "35bb7712-69fb-4fc3-a3e0-807ba0fad971",
   "metadata": {},
   "outputs": [],
   "source": [
    "def relu(x: np.ndarray): return np.maximum(0, x)\n",
    "def d_relu(x: np.ndarray): return (x>0)*1\n",
    "def loss(yh: float, y: float): return -(y*np.log(yh)+(1-y)*np.log(1-yh))\n",
    "def cost(yh: np.ndarray, y: np.ndarray):\n",
    "    m, c, yh = len(y), 0, yh.T\n",
    "    for i in range(m): c += loss(yh[i], y[i]) \n",
    "    return (c/m).squeeze()"
   ]
  },
  {
   "cell_type": "code",
   "execution_count": 86,
   "id": "3e848330-f5da-4103-bdb5-bcba353dbc91",
   "metadata": {},
   "outputs": [],
   "source": [
    "class Model:\n",
    "    def __init__(self, n_in: int, n_hidden: int, n_out: int):\n",
    "        self.W1 = np.random.randn(n_hidden, n_in) * (2/n_in)**0.5\n",
    "        self.b1 = np.zeros((n_hidden, 1))\n",
    "        # add a dropout maybe\n",
    "        self.a1 = relu\n",
    "        self.W2 = np.random.randn(n_out, n_hidden)\n",
    "        self.b2 = np.zeros((n_out, 1))\n",
    "        self.a2 = relu # make this softmax\n",
    "\n",
    "    def forward(self, x: np.ndarray):\n",
    "        l1 = self.a1(np.dot(self.W1, x) + self.b1)\n",
    "        l2 = self.a2(np.dot(self.W2, l1) + self.b2)\n",
    "        return l2\n",
    "\n",
    "    def backward(self, x: np.ndarray, yh: np.ndarray, y: np.ndarray):\n",
    "        m = x.shape[1]\n",
    "        z1 = np.dot(self.W1, x) + self.b1\n",
    "        a1 = self.a1(z1)\n",
    "\n",
    "        dz2 = yh - y\n",
    "        self.dW2 = 1/m*np.dot(dz2, a1.T)\n",
    "        self.db2 = 1/m*np.sum(dz2, axis=1, keepdims=True)\n",
    "\n",
    "        dz1 = np.dot(self.W2.T, dz2) * d_relu(z1)\n",
    "        self.dW1 = 1/m*np.dot(dz1, x.T)\n",
    "        self.db1 = 1/m*np.sum(dz1, axis=1, keepdims=True)\n",
    "\n",
    "    def step(self, lr: float):\n",
    "        self.W1 += -lr*self.dW1\n",
    "        self.W2 += -lr*self.dW2\n",
    "        self.b1 += -lr*self.db1\n",
    "        self.b2 += -lr*self.db2"
   ]
  },
  {
   "cell_type": "code",
   "execution_count": 122,
   "id": "6987a85a-1b97-4f54-aac0-ebe55adaaa21",
   "metadata": {},
   "outputs": [],
   "source": [
    "m = Model(784, 128, 10)\n",
    "epochs = 1\n",
    "iepoch = 1"
   ]
  },
  {
   "cell_type": "code",
   "execution_count": 123,
   "id": "e640d73e-543b-4c4b-b06d-3a6cd3c70fb0",
   "metadata": {},
   "outputs": [],
   "source": [
    "for epoch in range(epochs):\n",
    "    for Xb, Yb in zip(Xtr.T, Ytr.T): # t so that zip works on correct axis\n",
    "        Xb, Yb = Xb.reshape(-1, 1), Yb.reshape(1, -1)\n",
    "        yh = m.forward(Xb)\n",
    "        #c = cost(yh[0], Yb) # broken\n",
    "\n",
    "        m.backward(Xb, yh, Yb)\n",
    "        m.step(0.01)\n",
    "\n",
    "    #if epoch % iepoch == 0: \n",
    "        #print(f'{i}: loss {c:.4f}')"
   ]
  },
  {
   "cell_type": "code",
   "execution_count": null,
   "id": "a9482d6b-599a-4a10-961c-0aed8abc0d03",
   "metadata": {},
   "outputs": [],
   "source": []
  }
 ],
 "metadata": {
  "kernelspec": {
   "display_name": "notebook_venv",
   "language": "python",
   "name": "notebook_venv"
  },
  "language_info": {
   "codemirror_mode": {
    "name": "ipython",
    "version": 3
   },
   "file_extension": ".py",
   "mimetype": "text/x-python",
   "name": "python",
   "nbconvert_exporter": "python",
   "pygments_lexer": "ipython3",
   "version": "3.12.4"
  }
 },
 "nbformat": 4,
 "nbformat_minor": 5
}
