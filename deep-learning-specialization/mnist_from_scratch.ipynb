{
 "cells": [
  {
   "cell_type": "code",
   "execution_count": 1,
   "id": "5cbf8a02-15fe-44f8-bfa6-0b26ab05a179",
   "metadata": {},
   "outputs": [],
   "source": [
    "import numpy as np\n",
    "from numpy import load\n",
    "import matplotlib.pyplot as plt\n",
    "\n",
    "import requests, gzip, os, hashlib\n",
    "\n",
    "np.random.seed(42)"
   ]
  },
  {
   "cell_type": "code",
   "execution_count": 47,
   "id": "2647fa5c-99df-49b9-a43a-f3182184e890",
   "metadata": {},
   "outputs": [
    {
     "data": {
      "text/plain": [
       "((784, 60000), (1, 60000), (784, 5000), (1, 5000), (784, 5000), (1, 5000))"
      ]
     },
     "execution_count": 47,
     "metadata": {},
     "output_type": "execute_result"
    }
   ],
   "source": [
    "mnist_data = dict(load('data/mnist.npz'))\n",
    "trlen = mnist_data['y_train'].shape[0]\n",
    "testlen = mnist_data['y_test'].shape[0]\n",
    "\n",
    "tds = int(testlen*0.5)\n",
    "\n",
    "Xtr = mnist_data['x_train'].reshape(60000, -1).T\n",
    "Ytr = mnist_data['y_train'].reshape(-1, 1).T\n",
    "Xdev = mnist_data['x_test'].reshape(10000, -1).T[:, :tds]\n",
    "Ydev = mnist_data['y_test'].reshape(-1, 1).T[:, :tds]\n",
    "Xtest = mnist_data['x_test'].reshape(10000, -1).T[:, tds:]\n",
    "Ytest = mnist_data['y_test'].reshape(-1, 1).T[:, tds:]\n",
    "Xtr.shape, Ytr.shape, Xdev.shape, Ydev.shape, Xtest.shape, Ytest.shape"
   ]
  },
  {
   "cell_type": "code",
   "execution_count": 72,
   "id": "35bb7712-69fb-4fc3-a3e0-807ba0fad971",
   "metadata": {},
   "outputs": [],
   "source": [
    "#def softmax(z: np.ndarray): return np.exp(z)/np.sum(np.exp(z))\n",
    "def onehot(x: int):\n",
    "    z = np.zeros((10, 1))\n",
    "    z[x] = 1\n",
    "    return z\n",
    "def softmax(x: np.ndarray):\n",
    "    exp_x = np.exp(x - np.max(x, axis=0, keepdims=True))\n",
    "    return exp_x / np.sum(exp_x, axis=0, keepdims=True)\n",
    "def relu(x: np.ndarray): return np.maximum(0, x)\n",
    "def d_relu(x: np.ndarray): return (x>0)*1\n",
    "    \n",
    "def loss(yh: np.ndarray, y: int) -> float:\n",
    "    yh = np.clip(yh, 1e-12, 1-1e-12)\n",
    "    return -np.log(yh[y])\n",
    "def cost(yh: np.ndarray, y: np.ndarray) -> float:\n",
    "    m, tot_loss = len(y), 0\n",
    "    for i in range(m): tot_loss += loss(yh[i], y[i])\n",
    "    return tot_loss/m"
   ]
  },
  {
   "cell_type": "code",
   "execution_count": 73,
   "id": "d3807d8f-7f73-4138-bb08-1ee09c464d34",
   "metadata": {},
   "outputs": [],
   "source": [
    "def accuracy(yh: np.ndarray, y: np.ndarray):\n",
    "    m = len(y)\n",
    "    t = 0\n",
    "    for i in range(m):\n",
    "        if yh[i] == y[i]: t += 1\n",
    "    return t/m"
   ]
  },
  {
   "cell_type": "code",
   "execution_count": 74,
   "id": "3e848330-f5da-4103-bdb5-bcba353dbc91",
   "metadata": {},
   "outputs": [],
   "source": [
    "class Model:\n",
    "    def __init__(self, n_in: int, n_hidden: int, n_out: int):\n",
    "        self.W1 = np.random.randn(n_hidden, n_in) * (2/n_in)**0.5\n",
    "        self.b1 = np.zeros((n_hidden, 1))\n",
    "        # add a dropout maybe\n",
    "        self.a1 = relu\n",
    "        self.W2 = np.random.randn(n_out, n_hidden) * (2/n_hidden)**0.5\n",
    "        self.b2 = np.zeros((n_out, 1))\n",
    "        self.a2 = softmax\n",
    "\n",
    "    def forward(self, x: np.ndarray):\n",
    "        l1 = self.a1(np.dot(self.W1, x) + self.b1)\n",
    "        l2 = self.a2(np.dot(self.W2, l1) + self.b2)\n",
    "        return l2\n",
    "\n",
    "    def backward(self, x: np.ndarray, yh: np.ndarray, y: np.ndarray):\n",
    "        # gradient descent\n",
    "        m = x.shape[1]\n",
    "        z1 = np.dot(self.W1, x) + self.b1\n",
    "        a1 = self.a1(z1)\n",
    "\n",
    "        dz2 = yh - onehot(y)\n",
    "        self.dW2 = 1/m*np.dot(dz2, a1.T)\n",
    "        self.db2 = 1/m*np.sum(dz2, axis=1, keepdims=True)\n",
    "\n",
    "        dz1 = np.dot(self.W2.T, dz2) * d_relu(z1)\n",
    "        self.dW1 = 1/m*np.dot(dz1, x.T)\n",
    "        self.db1 = 1/m*np.sum(dz1, axis=1, keepdims=True)\n",
    "\n",
    "    def step(self, lr: float):\n",
    "        self.W1 += -lr*self.dW1\n",
    "        self.W2 += -lr*self.dW2\n",
    "        self.b1 += -lr*self.db1\n",
    "        self.b2 += -lr*self.db2"
   ]
  },
  {
   "cell_type": "code",
   "execution_count": 106,
   "id": "6987a85a-1b97-4f54-aac0-ebe55adaaa21",
   "metadata": {},
   "outputs": [],
   "source": [
    "m = Model(784, 128, 10)\n",
    "epochs = 10000\n",
    "iepoch = 500\n",
    "batch_size = 32\n",
    "lossi = []"
   ]
  },
  {
   "cell_type": "code",
   "execution_count": 107,
   "id": "e640d73e-543b-4c4b-b06d-3a6cd3c70fb0",
   "metadata": {
    "scrolled": true
   },
   "outputs": [
    {
     "name": "stdout",
     "output_type": "stream",
     "text": [
      "0: loss 2.2933\n",
      "500: loss 2.3708\n",
      "1000: loss 2.3547\n",
      "1500: loss 2.4849\n",
      "2000: loss 2.3863\n",
      "2500: loss 2.3101\n",
      "3000: loss 2.3004\n",
      "3500: loss 2.0835\n",
      "4000: loss 2.3157\n",
      "4500: loss 2.3941\n",
      "5000: loss 2.2365\n",
      "5500: loss 2.3191\n",
      "6000: loss 2.2560\n",
      "6500: loss 2.2755\n",
      "7000: loss 2.4191\n",
      "7500: loss 2.3161\n",
      "8000: loss 2.3357\n",
      "8500: loss 2.4288\n",
      "9000: loss 2.2772\n",
      "9500: loss 2.3060\n"
     ]
    }
   ],
   "source": [
    "for epoch in range(epochs):    \n",
    "    ix = np.random.randint(0, Xtr.shape[1], (batch_size,))\n",
    "    Xba, Yba = Xtr[:, ix], Ytr[:, ix]\n",
    "    for Xb, Yb in zip(Xba.T, Yba.T): \n",
    "        Xb = Xb.reshape(-1, 1)\n",
    "        \n",
    "        yh = m.forward(Xb)\n",
    "        c = loss(yh, Yb.item())\n",
    "    \n",
    "        m.backward(Xb, yh, Yb)\n",
    "        m.step(0.01)\n",
    "        \n",
    "    if epoch % iepoch == 0: \n",
    "        print(f'{epoch}: loss {c.item():.4f}')\n",
    "    lossi.append(c.item())"
   ]
  },
  {
   "cell_type": "code",
   "execution_count": 108,
   "id": "f885e319-767a-4980-ad60-f4c2cd9d9cb6",
   "metadata": {},
   "outputs": [
    {
     "data": {
      "image/png": "[encoded data removed]",
      "text/plain": [
       "<Figure size 640x480 with 1 Axes>"
      ]
     },
     "metadata": {},
     "output_type": "display_data"
    }
   ],
   "source": [
    "plt.plot(lossi);"
   ]
  },
  {
   "cell_type": "code",
   "execution_count": 104,
   "id": "9a0f7dc5-f000-42a3-8db2-cc7287af0ee3",
   "metadata": {},
   "outputs": [],
   "source": [
    "yhs = []\n",
    "mi = Xdev.shape[1]\n",
    "for i in range(mi):\n",
    "    Xb = Xdev[:, i].reshape(-1, 1)\n",
    "    iyh = m.forward(Xb)\n",
    "    yhs.append(np.argmax(iyh))"
   ]
  },
  {
   "cell_type": "code",
   "execution_count": 105,
   "id": "7876adbd-4630-456a-9447-91ba65837c94",
   "metadata": {},
   "outputs": [
    {
     "name": "stdout",
     "output_type": "stream",
     "text": [
      "acc: 10.40%\n"
     ]
    }
   ],
   "source": [
    "devprob = accuracy(yhs, Ydev.T)*100\n",
    "print(f'acc: {devprob:.2f}%')"
   ]
  },
  {
   "cell_type": "code",
   "execution_count": null,
   "id": "0dbd4223-65c4-482c-8903-fab9df211201",
   "metadata": {},
   "outputs": [],
   "source": []
  }
 ],
 "metadata": {
  "kernelspec": {
   "display_name": "notebook_venv",
   "language": "python",
   "name": "notebook_venv"
  },
  "language_info": {
   "codemirror_mode": {
    "name": "ipython",
    "version": 3
   },
   "file_extension": ".py",
   "mimetype": "text/x-python",
   "name": "python",
   "nbconvert_exporter": "python",
   "pygments_lexer": "ipython3",
   "version": "3.12.4"
  }
 },
 "nbformat": 4,
 "nbformat_minor": 5
}
