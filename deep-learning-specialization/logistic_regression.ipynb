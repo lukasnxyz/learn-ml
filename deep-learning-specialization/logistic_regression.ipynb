{
 "cells": [
  {
   "cell_type": "code",
   "execution_count": 1,
   "id": "1ec87a09-34ce-465b-81a3-0aa7aa2ca402",
   "metadata": {},
   "outputs": [],
   "source": [
    "import math\n",
    "import numpy as np"
   ]
  },
  {
   "cell_type": "code",
   "execution_count": 47,
   "id": "6a37f870-4a3f-49cd-80b6-12f27a477bb3",
   "metadata": {},
   "outputs": [
    {
     "name": "stdout",
     "output_type": "stream",
     "text": [
      "(4, 1)\n",
      "(2, 4)\n"
     ]
    }
   ],
   "source": [
    "# XOR\n",
    "data = np.array([\n",
    "    [0, 0, 1, 1],\n",
    "    [0, 1, 0, 1],\n",
    "    [0, 1, 1, 0]])\n",
    "X = data[:-1, :]\n",
    "Y = data[-1, :].reshape((len(data[-1, :])), 1)\n",
    "print(Y.shape)\n",
    "print(X.shape)"
   ]
  },
  {
   "cell_type": "code",
   "execution_count": 77,
   "id": "94a75130-9ad1-413a-8e75-02942205e9fb",
   "metadata": {},
   "outputs": [],
   "source": [
    "def sigmoid(x: np.ndarray):\n",
    "    return 1/(1+np.exp(-x))\n",
    "\n",
    "def loss(yh: float, y: float) -> float:\n",
    "    return -(y*math.log(yh)+(1-y)*math.log(1-yh))\n",
    "\n",
    "def cost(yh: np.ndarray, y: np.ndarray):\n",
    "    m, c = y.shape[1], 0\n",
    "    for i in range(m): \n",
    "        c += loss(yh[i], y[i])\n",
    "    return c/m\n",
    "\n",
    "def forward(x: np.ndarray, w: np.ndarray, b: float):\n",
    "    return sigmoid(np.dot(w.T, x) + b)\n",
    "\n",
    "def backward(x: np.ndarray, yh: np.ndarray, y: np.ndarray, w_dim: int):\n",
    "    m = len(x)\n",
    "    dz = yh - y\n",
    "    dw = 1/m*np.dot(x, dz.T)\n",
    "    db = 1/m*np.sum(dz)\n",
    "    return dw, db\n",
    "\n",
    "def train(iters: int, lr: float, x: np.ndarray, y: np.ndarray, w: np.ndarray, b: float):\n",
    "    for i in range(iters):\n",
    "        # forward\n",
    "        yh = forward(x, w, b)\n",
    "        c = cost(yh, y)\n",
    "        print(f'c: {c.item():.4f}, yh: {yh}')\n",
    "\n",
    "        # backward\n",
    "        dw, db = backward(x, yh, y, len(w))\n",
    "        \n",
    "        # optimize\n",
    "        w += -lr*dw\n",
    "        b += -lr*db\n",
    "    return c\n",
    "\n",
    "\n"
   ]
  },
  {
   "cell_type": "code",
   "execution_count": 78,
   "id": "605703f8-a996-46d3-8310-724349b646ff",
   "metadata": {},
   "outputs": [
    {
     "ename": "TypeError",
     "evalue": "only length-1 arrays can be converted to Python scalars",
     "output_type": "error",
     "traceback": [
      "\u001b[0;31m---------------------------------------------------------------------------\u001b[0m",
      "\u001b[0;31mTypeError\u001b[0m                                 Traceback (most recent call last)",
      "Cell \u001b[0;32mIn[78], line 4\u001b[0m\n\u001b[1;32m      1\u001b[0m w \u001b[38;5;241m=\u001b[39m np\u001b[38;5;241m.\u001b[39mzeros((\u001b[38;5;241m2\u001b[39m, \u001b[38;5;241m1\u001b[39m))\n\u001b[1;32m      2\u001b[0m b \u001b[38;5;241m=\u001b[39m \u001b[38;5;241m0.0\u001b[39m\n\u001b[0;32m----> 4\u001b[0m loss \u001b[38;5;241m=\u001b[39m \u001b[43mtrain\u001b[49m\u001b[43m(\u001b[49m\u001b[38;5;241;43m2\u001b[39;49m\u001b[43m,\u001b[49m\u001b[43m \u001b[49m\u001b[38;5;241;43m0.01\u001b[39;49m\u001b[43m,\u001b[49m\u001b[43m \u001b[49m\u001b[43mX\u001b[49m\u001b[43m,\u001b[49m\u001b[43m \u001b[49m\u001b[43mY\u001b[49m\u001b[43m,\u001b[49m\u001b[43m \u001b[49m\u001b[43mw\u001b[49m\u001b[43m,\u001b[49m\u001b[43m \u001b[49m\u001b[43mb\u001b[49m\u001b[43m)\u001b[49m\n",
      "Cell \u001b[0;32mIn[77], line 27\u001b[0m, in \u001b[0;36mtrain\u001b[0;34m(iters, lr, x, y, w, b)\u001b[0m\n\u001b[1;32m     24\u001b[0m \u001b[38;5;28;01mfor\u001b[39;00m i \u001b[38;5;129;01min\u001b[39;00m \u001b[38;5;28mrange\u001b[39m(iters):\n\u001b[1;32m     25\u001b[0m     \u001b[38;5;66;03m# forward\u001b[39;00m\n\u001b[1;32m     26\u001b[0m     yh \u001b[38;5;241m=\u001b[39m forward(x, w, b)\n\u001b[0;32m---> 27\u001b[0m     c \u001b[38;5;241m=\u001b[39m \u001b[43mcost\u001b[49m\u001b[43m(\u001b[49m\u001b[43myh\u001b[49m\u001b[43m,\u001b[49m\u001b[43m \u001b[49m\u001b[43my\u001b[49m\u001b[43m)\u001b[49m\n\u001b[1;32m     28\u001b[0m     \u001b[38;5;28mprint\u001b[39m(\u001b[38;5;124mf\u001b[39m\u001b[38;5;124m'\u001b[39m\u001b[38;5;124mc: \u001b[39m\u001b[38;5;132;01m{\u001b[39;00mc\u001b[38;5;241m.\u001b[39mitem()\u001b[38;5;132;01m:\u001b[39;00m\u001b[38;5;124m.4f\u001b[39m\u001b[38;5;132;01m}\u001b[39;00m\u001b[38;5;124m, yh: \u001b[39m\u001b[38;5;132;01m{\u001b[39;00myh\u001b[38;5;132;01m}\u001b[39;00m\u001b[38;5;124m'\u001b[39m)\n\u001b[1;32m     30\u001b[0m     \u001b[38;5;66;03m# backward\u001b[39;00m\n",
      "Cell \u001b[0;32mIn[77], line 10\u001b[0m, in \u001b[0;36mcost\u001b[0;34m(yh, y)\u001b[0m\n\u001b[1;32m      8\u001b[0m m, c \u001b[38;5;241m=\u001b[39m y\u001b[38;5;241m.\u001b[39mshape[\u001b[38;5;241m1\u001b[39m], \u001b[38;5;241m0\u001b[39m\n\u001b[1;32m      9\u001b[0m \u001b[38;5;28;01mfor\u001b[39;00m i \u001b[38;5;129;01min\u001b[39;00m \u001b[38;5;28mrange\u001b[39m(m): \n\u001b[0;32m---> 10\u001b[0m     c \u001b[38;5;241m+\u001b[39m\u001b[38;5;241m=\u001b[39m \u001b[43mloss\u001b[49m\u001b[43m(\u001b[49m\u001b[43myh\u001b[49m\u001b[43m[\u001b[49m\u001b[43mi\u001b[49m\u001b[43m]\u001b[49m\u001b[43m,\u001b[49m\u001b[43m \u001b[49m\u001b[43my\u001b[49m\u001b[43m[\u001b[49m\u001b[43mi\u001b[49m\u001b[43m]\u001b[49m\u001b[43m)\u001b[49m\n\u001b[1;32m     11\u001b[0m \u001b[38;5;28;01mreturn\u001b[39;00m c\u001b[38;5;241m/\u001b[39mm\n",
      "Cell \u001b[0;32mIn[77], line 5\u001b[0m, in \u001b[0;36mloss\u001b[0;34m(yh, y)\u001b[0m\n\u001b[1;32m      4\u001b[0m \u001b[38;5;28;01mdef\u001b[39;00m \u001b[38;5;21mloss\u001b[39m(yh: \u001b[38;5;28mfloat\u001b[39m, y: \u001b[38;5;28mfloat\u001b[39m) \u001b[38;5;241m-\u001b[39m\u001b[38;5;241m>\u001b[39m \u001b[38;5;28mfloat\u001b[39m:\n\u001b[0;32m----> 5\u001b[0m     \u001b[38;5;28;01mreturn\u001b[39;00m \u001b[38;5;241m-\u001b[39m(y\u001b[38;5;241m*\u001b[39m\u001b[43mmath\u001b[49m\u001b[38;5;241;43m.\u001b[39;49m\u001b[43mlog\u001b[49m\u001b[43m(\u001b[49m\u001b[43myh\u001b[49m\u001b[43m)\u001b[49m\u001b[38;5;241m+\u001b[39m(\u001b[38;5;241m1\u001b[39m\u001b[38;5;241m-\u001b[39my)\u001b[38;5;241m*\u001b[39mmath\u001b[38;5;241m.\u001b[39mlog(\u001b[38;5;241m1\u001b[39m\u001b[38;5;241m-\u001b[39myh))\n",
      "\u001b[0;31mTypeError\u001b[0m: only length-1 arrays can be converted to Python scalars"
     ]
    }
   ],
   "source": [
    "w = np.zeros((2, 1))\n",
    "b = 0.0\n",
    "\n",
    "loss = train(2, 0.01, X, Y, w, b)"
   ]
  },
  {
   "cell_type": "code",
   "execution_count": null,
   "id": "52e75d01-46eb-46f8-8c94-d76ed1e9f607",
   "metadata": {},
   "outputs": [],
   "source": []
  },
  {
   "cell_type": "code",
   "execution_count": 7,
   "id": "3c703a31-50b5-4270-bcdf-2277df0dbf7b",
   "metadata": {},
   "outputs": [
    {
     "name": "stdout",
     "output_type": "stream",
     "text": [
      "[[ 56.    0.    4.4  68. ]\n",
      " [  1.2 104.   52.    8. ]\n",
      " [  1.8 135.   99.    0.9]]\n",
      "[ 59.  239.  155.4  76.9]\n",
      "[[94.91525424  0.          2.83140283 88.42652796]\n",
      " [ 2.03389831 43.51464435 33.46203346 10.40312094]\n",
      " [ 3.05084746 56.48535565 63.70656371  1.17035111]]\n"
     ]
    }
   ],
   "source": [
    "# broadcasting example\n",
    "A = np.array([\n",
    "    [56.0, 0.0, 4.4, 68.0],\n",
    "    [1.2, 104.0, 52.0, 8.0],\n",
    "    [1.8, 135.0, 99.0, 0.9]])\n",
    "\n",
    "print(A)\n",
    "cal = A.sum(axis=0) # axis 0 is vertical axis, 1 is horizontal axis\n",
    "print(cal)\n",
    "\n",
    "perc = 100*A/cal.reshape(1,4)\n",
    "print(perc)"
   ]
  },
  {
   "cell_type": "code",
   "execution_count": null,
   "id": "d8db49a3-ab6d-4e7a-9474-26805c2d8873",
   "metadata": {},
   "outputs": [],
   "source": []
  }
 ],
 "metadata": {
  "kernelspec": {
   "display_name": "notebook_venv",
   "language": "python",
   "name": "notebook_venv"
  },
  "language_info": {
   "codemirror_mode": {
    "name": "ipython",
    "version": 3
   },
   "file_extension": ".py",
   "mimetype": "text/x-python",
   "name": "python",
   "nbconvert_exporter": "python",
   "pygments_lexer": "ipython3",
   "version": "3.12.4"
  }
 },
 "nbformat": 4,
 "nbformat_minor": 5
}
