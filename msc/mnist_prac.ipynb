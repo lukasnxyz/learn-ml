{
 "cells": [
  {
   "cell_type": "code",
   "execution_count": 56,
   "id": "3b8269cd-0898-4ef6-b4f3-27eb38f492e8",
   "metadata": {},
   "outputs": [],
   "source": [
    "# doing this to get back into it\n",
    "# to understand again what goes into a training and inference program"
   ]
  },
  {
   "cell_type": "code",
   "execution_count": 62,
   "id": "b2d802fc-7e8c-421d-a903-083f80757c86",
   "metadata": {},
   "outputs": [],
   "source": [
    "import torch\n",
    "from torch import nn\n",
    "import torch.nn.functional as F\n",
    "import numpy as np\n",
    "import time\n",
    "import matplotlib.pyplot as plt"
   ]
  },
  {
   "cell_type": "code",
   "execution_count": 4,
   "id": "0464c801-2c23-4ea6-9bd9-48df895ae6a2",
   "metadata": {},
   "outputs": [
    {
     "name": "stdout",
     "output_type": "stream",
     "text": [
      "using device: mps\n"
     ]
    }
   ],
   "source": [
    "d_opts = [('cuda', torch.cuda.is_available()), ('mps', torch.backends.mps.is_available()), ('cpu', True)]\n",
    "device = next(device for device, available in d_opts if available)\n",
    "print(f'using device: {device}')"
   ]
  },
  {
   "cell_type": "code",
   "execution_count": 5,
   "id": "928d6725-12c4-4181-9918-b59c5417cf90",
   "metadata": {},
   "outputs": [],
   "source": [
    "def load_data(data_f_name: str):\n",
    "    data = list()\n",
    "    with open(data_f_name, 'r') as f:\n",
    "        [data.append(np.array(line.split(','), dtype=np.float32)) for line in f]\n",
    "    data = np.asarray(data)\n",
    "    return torch.from_numpy(data)"
   ]
  },
  {
   "cell_type": "code",
   "execution_count": 19,
   "id": "74d7a77d-7c73-403f-a3c7-aaba1c4231f0",
   "metadata": {},
   "outputs": [
    {
     "data": {
      "text/plain": [
       "torch.Size([70000, 785])"
      ]
     },
     "execution_count": 19,
     "metadata": {},
     "output_type": "execute_result"
    }
   ],
   "source": [
    "data = load_data('../data/mnist_data.csv') # num, tensor array (1 + 784)\n",
    "data.shape"
   ]
  },
  {
   "cell_type": "code",
   "execution_count": 25,
   "id": "491a1ec1-60d4-472b-a5ad-88ea5c6d2a52",
   "metadata": {},
   "outputs": [],
   "source": [
    "# split into train/val sets\n",
    "n = int(0.9*len(data))\n",
    "tr_data, val_data = data[:n], data[n:]\n",
    "\n",
    "# split into X, y\n",
    "Xtr, ytr = tr_data[:, 1:], tr_data[:, 0]\n",
    "Xval, yval = val_data[:, 1:], val_data[:, 0]\n",
    "\n",
    "# rescale 0-255 to 0.0-1.0\n",
    "Xtr = Xtr/Xtr.max()\n",
    "Xval = Xval/Xval.max()\n",
    "Xtr, ytr = Xtr.to(device), ytr.to(device)\n",
    "Xval, yval = Xval.to(device), yval.to(device)"
   ]
  },
  {
   "cell_type": "code",
   "execution_count": 29,
   "id": "db374a47-ca57-4293-b4ba-a6076dcbe3ae",
   "metadata": {},
   "outputs": [],
   "source": [
    "# just a simple feedforward with batch norm for now\n",
    "class MNIST_MODEL(nn.Module):\n",
    "    def __init__(self, n_in: int, n_hidden: int, n_out: int):\n",
    "        super().__init__()\n",
    "        self.block1 = nn.Sequential(\n",
    "            nn.Linear(n_in, n_hidden),\n",
    "            nn.ReLU(),\n",
    "            nn.BatchNorm1d(n_hidden),\n",
    "        )\n",
    "        self.block2 = nn.Sequential(\n",
    "            nn.Linear(n_hidden, n_hidden),\n",
    "            nn.ReLU(),\n",
    "            nn.BatchNorm1d(n_hidden),\n",
    "        )\n",
    "        self.block3 = nn.Sequential(\n",
    "            nn.Linear(n_hidden, n_out),\n",
    "            nn.Sigmoid(),\n",
    "        )\n",
    "\n",
    "    def forward(self, x):\n",
    "        x = self.block1(x)\n",
    "        x = self.block2(x)\n",
    "        x = self.block3(x)\n",
    "        return x"
   ]
  },
  {
   "cell_type": "code",
   "execution_count": 53,
   "id": "1ef36119-95ee-44ee-a987-555251fee2b9",
   "metadata": {},
   "outputs": [],
   "source": [
    "torch.manual_seed(69)\n",
    "\n",
    "# hyper params\n",
    "epochs = 10000\n",
    "epoch_itr = 750\n",
    "batch_size = 16\n",
    "n_hidden = 128\n",
    "n_in = 784\n",
    "n_out = 10\n",
    "lr = 1e-4"
   ]
  },
  {
   "cell_type": "code",
   "execution_count": 57,
   "id": "84143448-fdf2-4436-b281-c01d686d04d8",
   "metadata": {},
   "outputs": [
    {
     "name": "stdout",
     "output_type": "stream",
     "text": [
      "num of params: 118794\n"
     ]
    }
   ],
   "source": [
    "model = MNIST_MODEL(n_in=n_in, n_hidden=n_hidden, n_out=n_out).to(device)\n",
    "print(f'num of params: {sum([p.numel() for p in model.parameters()])}')\n",
    "loss_fn = nn.CrossEntropyLoss()\n",
    "optim = torch.optim.Adam(model.parameters(), lr=lr)\n",
    "losses = []"
   ]
  },
  {
   "cell_type": "code",
   "execution_count": 68,
   "id": "820eae07-6c99-4696-b79a-91e7d7f2f06f",
   "metadata": {},
   "outputs": [
    {
     "name": "stdout",
     "output_type": "stream",
     "text": [
      "epoch: 0, run time: 0.0s, loss: 1.4674\n",
      "epoch: 750, run time: 3.7s, loss: 1.4753\n",
      "epoch: 1500, run time: 7.4s, loss: 1.4711\n",
      "epoch: 2250, run time: 11.0s, loss: 1.4754\n",
      "epoch: 3000, run time: 14.6s, loss: 1.4721\n",
      "epoch: 3750, run time: 18.1s, loss: 1.4864\n",
      "epoch: 4500, run time: 21.7s, loss: 1.4862\n",
      "epoch: 5250, run time: 25.4s, loss: 1.5047\n",
      "epoch: 6000, run time: 29.0s, loss: 1.4774\n",
      "epoch: 6750, run time: 32.6s, loss: 1.4914\n",
      "epoch: 7500, run time: 36.3s, loss: 1.4742\n",
      "epoch: 8250, run time: 39.8s, loss: 1.6148\n",
      "epoch: 9000, run time: 43.5s, loss: 1.4677\n",
      "epoch: 9750, run time: 47.1s, loss: 1.5285\n",
      "training time: 48.2s\n"
     ]
    }
   ],
   "source": [
    "model.train()\n",
    "start_time = time.time()\n",
    "for epoch in range(epochs):\n",
    "    # mini batching\n",
    "    ix = torch.randint(0, Xtr.shape[0], (batch_size,))\n",
    "    Xb, yb = Xtr[ix], ytr[ix]\n",
    "\n",
    "    logits = model.forward(Xb)\n",
    "    loss = loss_fn(logits, yb)\n",
    "\n",
    "    optim.zero_grad()\n",
    "    loss.backward()\n",
    "\n",
    "    lr = 1e-1 if epoch > 1000 else lr\n",
    "    optim.step()\n",
    "\n",
    "    losses.append(loss.item())\n",
    "    if not epoch % epoch_itr:\n",
    "        print(f'epoch: {epoch}, run time: {time.time()-start_time:.1f}s, loss: {loss.item():.4f}')\n",
    "\n",
    "end_time = time.time()\n",
    "print(f'training time: {end_time-start_time:.1f}s')"
   ]
  },
  {
   "cell_type": "code",
   "execution_count": 69,
   "id": "8ff2661d-3be5-4830-8468-c9b42c7fee59",
   "metadata": {},
   "outputs": [
    {
     "data": {
      "image/png": "[encoded data removed]",
      "text/plain": [
       "<Figure size 640x480 with 1 Axes>"
      ]
     },
     "metadata": {},
     "output_type": "display_data"
    }
   ],
   "source": [
    "plt.plot(losses);"
   ]
  },
  {
   "cell_type": "code",
   "execution_count": 70,
   "id": "6bff1971-dcdd-4d42-b4b8-a461e9c82119",
   "metadata": {},
   "outputs": [],
   "source": [
    "@torch.no_grad()\n",
    "def split_loss(split: str):\n",
    "    x,y = {\n",
    "        'train': (Xtr, ytr),\n",
    "        'val': (Xval, yval),\n",
    "    }[split]\n",
    "    logits = model(x.float())\n",
    "    loss = F.cross_entropy(logits, y)\n",
    "    print(split, loss.item())"
   ]
  },
  {
   "cell_type": "code",
   "execution_count": 71,
   "id": "dec4c988-f7a5-4433-98a7-a623cde68c6e",
   "metadata": {},
   "outputs": [
    {
     "name": "stdout",
     "output_type": "stream",
     "text": [
      "train 1.4821583032608032\n",
      "val 1.4843127727508545\n"
     ]
    }
   ],
   "source": [
    "with torch.inference_mode():\n",
    "    split_loss('train')\n",
    "    split_loss('val')"
   ]
  },
  {
   "cell_type": "code",
   "execution_count": 72,
   "id": "0d623151-e296-4e91-9043-e69e08cecdb1",
   "metadata": {},
   "outputs": [
    {
     "name": "stdout",
     "output_type": "stream",
     "text": [
      "accuracy: 97.41%\n"
     ]
    }
   ],
   "source": [
    "# test accuracy\n",
    "model.eval()\n",
    "with torch.inference_mode():\n",
    "    def acc_fn(ytrue, ypred):\n",
    "        correct = torch.eq(ytrue, ypred).sum().item()\n",
    "        acc = (correct/len(ypred))*100\n",
    "        return acc\n",
    "    logits = model(Xval)\n",
    "    acc = acc_fn(ypred=logits.argmax(dim=1), ytrue=yval)\n",
    "    print(f'accuracy: {acc:.2f}%')"
   ]
  },
  {
   "cell_type": "code",
   "execution_count": null,
   "id": "398e504e-e497-436e-824a-17826193b718",
   "metadata": {},
   "outputs": [],
   "source": []
  }
 ],
 "metadata": {
  "kernelspec": {
   "display_name": "notebook_venv",
   "language": "python",
   "name": "notebook_venv"
  },
  "language_info": {
   "codemirror_mode": {
    "name": "ipython",
    "version": 3
   },
   "file_extension": ".py",
   "mimetype": "text/x-python",
   "name": "python",
   "nbconvert_exporter": "python",
   "pygments_lexer": "ipython3",
   "version": "3.12.9"
  }
 },
 "nbformat": 4,
 "nbformat_minor": 5
}
