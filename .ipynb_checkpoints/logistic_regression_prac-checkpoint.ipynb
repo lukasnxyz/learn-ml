{
 "cells": [
  {
   "cell_type": "code",
   "execution_count": 26,
   "id": "1cb86112-6877-4eb7-9ea1-bf9fd3e78f5f",
   "metadata": {},
   "outputs": [],
   "source": [
    "import numpy as np\n",
    "import csv\n",
    "from sklearn.model_selection import train_test_split\n",
    "\n",
    "def sigmoid(x):\n",
    "    return 1/(1 + np.exp(-x))\n",
    "\n",
    "class LogisticRegression():\n",
    "    def __init__(self, rate=1e-3, epochs=500):\n",
    "        self.rate = rate\n",
    "        self.epochs = epochs\n",
    "        self.weights = None\n",
    "        self.bias = 0\n",
    "            \n",
    "    def train(self, feats, ys):\n",
    "        n_samples, n_feats = feats.shape\n",
    "        self.weights = np.zeros(n_feats)\n",
    "        self.bias = 0\n",
    "\n",
    "        for _ in range(self.epochs):\n",
    "            self.descent(feats, ys, n_samples)\n",
    "\n",
    "    def descent(self, feats, ys, n_samples):\n",
    "        # Check the outcome first\n",
    "        linear_preds = np.dot(feats, self.weights) + self.bias\n",
    "        # and then make on a scale from 0.0 to 1.0\n",
    "        predictions = sigmoid(linear_preds)\n",
    "\n",
    "        d_weights = (1/n_samples) * np.dot(feats.T, (predictions - ys))\n",
    "        d_bias = (1/n_samples) * np.sum(predictions - ys)\n",
    "\n",
    "        self.weights = self.weights - d_weights * self.rate\n",
    "        self.bias = self.bias - d_bias * self.rate\n",
    "\n",
    "    def predict(self, feats):\n",
    "        linear_preds = np.dot(feats, self.weights) + self.bias\n",
    "        predictions = sigmoid(linear_preds)\n",
    "        class_preds = []\n",
    "\n",
    "        # This may be an error\n",
    "        for i in range(len(predictions)): \n",
    "            if predictions[i] <= 0.5:\n",
    "                class_preds.append(0)\n",
    "            else:\n",
    "                class_preds.append(1)\n",
    "                \n",
    "        return class_preds"
   ]
  },
  {
   "cell_type": "code",
   "execution_count": 27,
   "id": "387b58f1-7f76-4ad6-9223-67fc56fe82b2",
   "metadata": {},
   "outputs": [
    {
     "ename": "ValueError",
     "evalue": "The truth value of an array with more than one element is ambiguous. Use a.any() or a.all()",
     "output_type": "error",
     "traceback": [
      "\u001b[0;31m---------------------------------------------------------------------------\u001b[0m",
      "\u001b[0;31mValueError\u001b[0m                                Traceback (most recent call last)",
      "Cell \u001b[0;32mIn[27], line 22\u001b[0m\n\u001b[1;32m     19\u001b[0m     \u001b[38;5;28mprint\u001b[39m(accuracy(ys_test, ys_pred))\n\u001b[1;32m     21\u001b[0m \u001b[38;5;28;01mif\u001b[39;00m \u001b[38;5;18m__name__\u001b[39m \u001b[38;5;241m==\u001b[39m \u001b[38;5;124m\"\u001b[39m\u001b[38;5;124m__main__\u001b[39m\u001b[38;5;124m\"\u001b[39m:\n\u001b[0;32m---> 22\u001b[0m     \u001b[43mmain\u001b[49m\u001b[43m(\u001b[49m\u001b[43m)\u001b[49m\n",
      "Cell \u001b[0;32mIn[27], line 18\u001b[0m, in \u001b[0;36mmain\u001b[0;34m()\u001b[0m\n\u001b[1;32m     15\u001b[0m clf \u001b[38;5;241m=\u001b[39m LogisticRegression()\n\u001b[1;32m     16\u001b[0m clf\u001b[38;5;241m.\u001b[39mtrain(features_train, ys_train)\n\u001b[0;32m---> 18\u001b[0m ys_pred \u001b[38;5;241m=\u001b[39m \u001b[43mclf\u001b[49m\u001b[38;5;241;43m.\u001b[39;49m\u001b[43mpredict\u001b[49m\u001b[43m(\u001b[49m\u001b[43mfeatures_test\u001b[49m\u001b[43m)\u001b[49m\n\u001b[1;32m     19\u001b[0m \u001b[38;5;28mprint\u001b[39m(accuracy(ys_test, ys_pred))\n",
      "Cell \u001b[0;32mIn[26], line 42\u001b[0m, in \u001b[0;36mLogisticRegression.predict\u001b[0;34m(self, feats)\u001b[0m\n\u001b[1;32m     40\u001b[0m \u001b[38;5;66;03m# This may be an error\u001b[39;00m\n\u001b[1;32m     41\u001b[0m \u001b[38;5;28;01mfor\u001b[39;00m i \u001b[38;5;129;01min\u001b[39;00m \u001b[38;5;28mrange\u001b[39m(\u001b[38;5;28mlen\u001b[39m(predictions)): \n\u001b[0;32m---> 42\u001b[0m     \u001b[38;5;28;01mif\u001b[39;00m predictions \u001b[38;5;241m<\u001b[39m\u001b[38;5;241m=\u001b[39m \u001b[38;5;241m0.5\u001b[39m:\n\u001b[1;32m     43\u001b[0m         class_preds\u001b[38;5;241m.\u001b[39mappend(\u001b[38;5;241m0\u001b[39m)\n\u001b[1;32m     44\u001b[0m     \u001b[38;5;28;01melse\u001b[39;00m:\n",
      "\u001b[0;31mValueError\u001b[0m: The truth value of an array with more than one element is ambiguous. Use a.any() or a.all()"
     ]
    }
   ],
   "source": [
    "def main():\n",
    "    with open(\"/home/ln/src/ml/data/500_Person_Gender_Height_Weight_Index.csv\") as file:\n",
    "        reader = csv.reader(file)\n",
    "        data_csv = list(reader)\n",
    "\n",
    "    data = np.array(data_csv)\n",
    "    data = np.delete(data, (0), axis=0)\n",
    "    data = data.astype(float)\n",
    "\n",
    "    feats = data[:, 1:]\n",
    "    ys = data[:, 0]\n",
    "\n",
    "    features_train, features_test, ys_train, ys_test = train_test_split(feats, ys, test_size=0.2, random_state=1234)                                                                                                                                                   \n",
    "\n",
    "    clf = LogisticRegression()\n",
    "    clf.train(features_train, ys_train)\n",
    "\n",
    "    ys_pred = clf.predict(features_test)\n",
    "    print(accuracy(ys_test, ys_pred))\n",
    "\n",
    "if __name__ == \"__main__\":\n",
    "    main()"
   ]
  },
  {
   "cell_type": "code",
   "execution_count": null,
   "id": "569817cf-0a88-48e1-9d34-5cae135b966f",
   "metadata": {},
   "outputs": [],
   "source": []
  }
 ],
 "metadata": {
  "kernelspec": {
   "display_name": "Python 3 (ipykernel)",
   "language": "python",
   "name": "python3"
  },
  "language_info": {
   "codemirror_mode": {
    "name": "ipython",
    "version": 3
   },
   "file_extension": ".py",
   "mimetype": "text/x-python",
   "name": "python",
   "nbconvert_exporter": "python",
   "pygments_lexer": "ipython3",
   "version": "3.11.6"
  }
 },
 "nbformat": 4,
 "nbformat_minor": 5
}
