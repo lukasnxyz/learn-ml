{
 "cells": [
  {
   "cell_type": "code",
   "execution_count": 3,
   "id": "4357ee00-5e73-4ddc-93b9-aaece17df5b8",
   "metadata": {},
   "outputs": [],
   "source": [
    "from matplotlib import pyplot as plt\n",
    "from scipy.misc import derivative\n",
    "from math import factorial\n",
    "\n",
    "class TaylorSeries():\n",
    "    def __init__(self, f, order, center = 0):\n",
    "        self.center = center\n",
    "        self.f = f\n",
    "        self.order = order\n",
    "        self.d_pts = order * 2\n",
    "        self.coefficients = []\n",
    "\n",
    "        if self.d_pts % 2 == 0:\n",
    "            self.d_pts += 1\n",
    "\n",
    "        self.__find_coefficients()\n",
    "\n",
    "    def __find_coefficients(self):\n",
    "        for i in range(0, self.order + 1):\n",
    "            self.coefficients.append(round(derivative(\n",
    "                self.f, self.center, n=i, order=self.d_pts)/factorial(i), 5))\n",
    "\n",
    "    def print_equation(self):\n",
    "        print(self.coefficients)\n",
    "\n",
    "    def approx_value(self, x):\n",
    "        fx = 0\n",
    "        for i in range(len(self.coefficients)):\n",
    "            fx += self.coefficients[i] * ((x - self.center) ** i) # coefficient to the *nth term (** power op)\n",
    "\n",
    "        return fx\n",
    "\n",
    "    def get_func(self):\n",
    "        return self.f\n",
    "\n",
    "def square(x):\n",
    "    return x ** 2\n",
    "\n",
    "def cube(x):\n",
    "    return x ** 3"
   ]
  },
  {
   "cell_type": "code",
   "execution_count": 4,
   "id": "2a63d8a2-60bd-455a-ba82-cc3af55e8e74",
   "metadata": {},
   "outputs": [
    {
     "name": "stdout",
     "output_type": "stream",
     "text": [
      "[0.0, -0.0, 0.0, 1.0, 0.0, -0.0, -0.0, -0.0, -0.0, -0.0, 0.0, -0.0, -0.0, 0.0, -0.0, 0.0]\n"
     ]
    },
    {
     "name": "stderr",
     "output_type": "stream",
     "text": [
      "/tmp/ipykernel_293423/438421245.py:20: DeprecationWarning: scipy.misc.derivative is deprecated in SciPy v1.10.0; and will be completely removed in SciPy v1.12.0. You may consider using findiff: https://github.com/maroba/findiff or numdifftools: https://github.com/pbrod/numdifftools\n",
      "  self.coefficients.append(round(derivative(\n",
      "/tmp/ipykernel_293423/438421245.py:20: DeprecationWarning: scipy.misc.derivative is deprecated in SciPy v1.10.0; and will be completely removed in SciPy v1.12.0. You may consider using findiff: https://github.com/maroba/findiff or numdifftools: https://github.com/pbrod/numdifftools\n",
      "  self.coefficients.append(round(derivative(\n"
     ]
    },
    {
     "data": {
      "image/png": "[encoded data removed]",
      "text/plain": [
       "<Figure size 640x480 with 1 Axes>"
      ]
     },
     "metadata": {},
     "output_type": "display_data"
    }
   ],
   "source": [
    "if __name__ == \"__main__\":\n",
    "    x = []\n",
    "    y = []\n",
    "    bot = -5\n",
    "    top = 6\n",
    "\n",
    "    ts = TaylorSeries(cube, 15, 0)\n",
    "    ts.print_equation()\n",
    "\n",
    "    for i in range(bot, top):\n",
    "        x.append(i)\n",
    "        y.append(square(i))\n",
    "\n",
    "    plt.plot(x, y, label=(ts.get_func().__name__))\n",
    "\n",
    "    x.clear()\n",
    "    y.clear()\n",
    "\n",
    "    for i in range(bot, top):\n",
    "        x.append(i)\n",
    "        y.append(ts.approx_value(i))\n",
    "\n",
    "    plt.plot(x, y, label=(\"taylor: \" + ts.get_func().__name__))\n",
    "\n",
    "    plt.legend()\n",
    "    plt.show()"
   ]
  },
  {
   "cell_type": "code",
   "execution_count": null,
   "id": "13de6e9d-9171-44ef-8e34-c563170f812c",
   "metadata": {},
   "outputs": [],
   "source": []
  }
 ],
 "metadata": {
  "kernelspec": {
   "display_name": "Python 3 (ipykernel)",
   "language": "python",
   "name": "python3"
  },
  "language_info": {
   "codemirror_mode": {
    "name": "ipython",
    "version": 3
   },
   "file_extension": ".py",
   "mimetype": "text/x-python",
   "name": "python",
   "nbconvert_exporter": "python",
   "pygments_lexer": "ipython3",
   "version": "3.11.6"
  }
 },
 "nbformat": 4,
 "nbformat_minor": 5
}
